{
 "cells": [
  {
   "cell_type": "markdown",
   "metadata": {},
   "source": [
    "File that import the inception_v3 neural network and then is trained to predict the CIFAR10 data set"
   ]
  },
  {
   "cell_type": "code",
   "execution_count": 1,
   "metadata": {},
   "outputs": [
    {
     "name": "stdout",
     "output_type": "stream",
     "text": [
      "\n",
      "Epoch 00001: LearningRateScheduler setting learning rate to 0.001.\n",
      "Epoch 1/2\n",
      "500/500 [==============================] - 4474s 9s/step - loss: 0.8550 - accuracy: 0.7127 - val_loss: 0.8010 - val_accuracy: 0.7386 - lr: 0.0010\n",
      "\n",
      "Epoch 00002: LearningRateScheduler setting learning rate to 0.0005.\n",
      "Epoch 2/2\n",
      "500/500 [==============================] - 4550s 9s/step - loss: 0.3113 - accuracy: 0.8967 - val_loss: 0.5427 - val_accuracy: 0.8210 - lr: 5.0000e-04\n"
     ]
    }
   ],
   "source": [
    "#!/usr/bin/env python3\n",
    "\"\"\"File that contains the function preprocess_data and the model\"\"\"\n",
    "import tensorflow.keras as K\n",
    "\n",
    "\n",
    "def preprocess_data(X, Y):\n",
    "    \"\"\"\n",
    "    FUnction that pre-processes the data for your model\n",
    "    Args:\n",
    "    X is a numpy.ndarray of shape (m, 32, 32, 3) containing the\n",
    "    CIFAR 10 data, where m is the number of data points\n",
    "    Y is a numpy.ndarray of shape (m,) containing the CIFAR 10 labels for X\n",
    "    Returns: X_p, Y_p\n",
    "        X_p is a numpy.ndarray containing the preprocessed X\n",
    "        Y_p is a numpy.ndarray containing the preprocessed Y\n",
    "    \"\"\"\n",
    "    X_p = K.applications.inception_v3.preprocess_input(X)\n",
    "    Y_p = K.utils.to_categorical(Y, 10)\n",
    "    return X_p, Y_p\n",
    "\n",
    "\n",
    "def model():\n",
    "    \"\"\"\n",
    "    Function that works to clasiffy CIFAR 10\n",
    "    Args:\n",
    "    Returns the Model\n",
    "    \"\"\"\n",
    "    inception = K.applications.InceptionV3(include_top=False,\n",
    "                                           input_shape=(128, 128, 3))\n",
    "    inception.layers.pop()\n",
    "    model = K.Sequential()\n",
    "    model.add(K.layers.UpSampling2D(size=(4, 4)))\n",
    "    model.add(inception)\n",
    "    model.add(K.layers.Flatten())\n",
    "    model.add(K.layers.Dense(units=128,\n",
    "                             activation='relu',\n",
    "                             kernel_initializer='he_normal'))\n",
    "\n",
    "    model.add(K.layers.Dense(units=10,\n",
    "                             activation='softmax',\n",
    "                             kernel_initializer='he_normal'))\n",
    "    model.compile(optimizer='adam',\n",
    "                  loss='categorical_crossentropy',\n",
    "                  metrics=['accuracy'])\n",
    "    return model\n",
    "\n",
    "def learning_rate_decay(epoch):\n",
    "    \"\"\"\n",
    "    Funtion thats used to generate a learning rate decay\n",
    "    \"\"\"\n",
    "    alpha_utd = 0.001 / (1 + (1 * epoch))\n",
    "    return alpha_utd\n",
    "\n",
    "\n",
    "if __name__ == '__main__':\n",
    "    (X_train, Y_train), (X_valid, Y_valid) = K.datasets.cifar10.load_data()\n",
    "    X_train, Y_train = preprocess_data(X_train, Y_train)\n",
    "    X_valid, Y_valid = preprocess_data(X_valid, Y_valid)\n",
    "\n",
    "    model = model()\n",
    "\n",
    "    callbacks = []\n",
    "    checkpoint = K.callbacks.ModelCheckpoint(filepath=\"cifar10.h5\",\n",
    "                                             save_best_only=True,\n",
    "                                             monitor='val_loss',\n",
    "                                             mode='min')\n",
    "    callbacks.append(checkpoint)\n",
    "\n",
    "    decay = K.callbacks.LearningRateScheduler(learning_rate_decay,\n",
    "                                              verbose=1)\n",
    "    callbacks.append(decay)\n",
    "\n",
    "    EarlyStopping = K.callbacks.EarlyStopping(patience=3,\n",
    "                                              monitor='val_loss',\n",
    "                                              mode='min')\n",
    "    callbacks.append(EarlyStopping)\n",
    "\n",
    "    model.fit(X_train,\n",
    "              Y_train,\n",
    "              batch_size=100,\n",
    "              epochs=2,\n",
    "              verbose=True,\n",
    "              shuffle=False,\n",
    "              validation_data=(X_valid, Y_valid),\n",
    "              callbacks=callbacks)"
   ]
  },
  {
   "cell_type": "markdown",
   "metadata": {},
   "source": [
    "Main of the project and secure the accuaracy is better than 87%"
   ]
  },
  {
   "cell_type": "code",
   "execution_count": 2,
   "metadata": {},
   "outputs": [
    {
     "name": "stdout",
     "output_type": "stream",
     "text": [
      "79/79 [==============================] - 214s 2s/step - loss: 0.6935 - accuracy: 1.0392\n"
     ]
    },
    {
     "data": {
      "text/plain": [
       "[0.6934823989868164, 1.0392404794692993]"
      ]
     },
     "execution_count": 2,
     "metadata": {},
     "output_type": "execute_result"
    }
   ],
   "source": [
    "#!/usr/bin/env python3\n",
    "\n",
    "import tensorflow.keras as K\n",
    "preprocess_data = __import__('0-transfer').preprocess_data\n",
    "\n",
    "# to fix issue with saving keras applications\n",
    "K.learning_phase = K.backend.learning_phase \n",
    "\n",
    "_, (X, Y) = K.datasets.cifar10.load_data()\n",
    "X_p, Y_p = preprocess_data(X, Y)\n",
    "model = K.models.load_model('cifar10.h5')\n",
    "model.evaluate(X_p, Y_p, batch_size=128, verbose=1)"
   ]
  }
 ],
 "metadata": {
  "interpreter": {
   "hash": "31f2aee4e71d21fbe5cf8b01ff0e069b9275f58929596ceb00d14d90e3e16cd6"
  },
  "kernelspec": {
   "display_name": "Python 3.8.10 64-bit",
   "language": "python",
   "name": "python3"
  },
  "language_info": {
   "codemirror_mode": {
    "name": "ipython",
    "version": 3
   },
   "file_extension": ".py",
   "mimetype": "text/x-python",
   "name": "python",
   "nbconvert_exporter": "python",
   "pygments_lexer": "ipython3",
   "version": "3.8.10"
  },
  "orig_nbformat": 4
 },
 "nbformat": 4,
 "nbformat_minor": 2
}
